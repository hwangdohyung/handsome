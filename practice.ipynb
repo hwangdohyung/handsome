{
 "cells": [
  {
   "cell_type": "code",
   "execution_count": null,
   "metadata": {},
   "outputs": [],
   "source": []
  }
 ],
 "metadata": {
  "kernelspec": {
   "display_name": "Python 3.9.0 ('torch1121')",
   "language": "python",
   "name": "python3"
  },
  "language_info": {
   "name": "python",
   "version": "3.9.0"
  },
  "orig_nbformat": 4,
  "vscode": {
   "interpreter": {
    "hash": "67c8504613dd3f0690234e0b8c25d28081127aa383d7d443bfb7aa636f4f5173"
   }
  }
 },
 "nbformat": 4,
 "nbformat_minor": 2
}
